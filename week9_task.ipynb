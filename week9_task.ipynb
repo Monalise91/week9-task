{
  "nbformat": 4,
  "nbformat_minor": 0,
  "metadata": {
    "colab": {
      "provenance": []
    },
    "kernelspec": {
      "name": "python3",
      "display_name": "Python 3"
    },
    "language_info": {
      "name": "python"
    }
  },
  "cells": [
    {
      "cell_type": "code",
      "execution_count": 2,
      "metadata": {
        "id": "TVwXs3dpWjK4"
      },
      "outputs": [],
      "source": [
        "import pandas as pd\n"
      ]
    },
    {
      "cell_type": "code",
      "source": [
        "from sklearn.impute import SimpleImputer"
      ],
      "metadata": {
        "id": "GNYjF1EDdVUk"
      },
      "execution_count": 8,
      "outputs": []
    },
    {
      "cell_type": "markdown",
      "source": [
        "# create a pandas DataFrame"
      ],
      "metadata": {
        "id": "INiQR2H0aFKB"
      }
    },
    {
      "cell_type": "code",
      "source": [
        "data = {'column1': [1, 2, 3, None, 5], 'column2': [None, 6, 7, None, None], 'column3':[8, 9, None, None, 12]}\n",
        "df = pd.DataFrame(data)"
      ],
      "metadata": {
        "id": "W7OVB6gFaNKa"
      },
      "execution_count": 5,
      "outputs": []
    },
    {
      "cell_type": "markdown",
      "source": [
        "# check for missing values in each column"
      ],
      "metadata": {
        "id": "mEUBNdSrcR5k"
      }
    },
    {
      "cell_type": "code",
      "source": [
        "missing_values = df.isnull().sum()\n",
        "print(missing_values)"
      ],
      "metadata": {
        "colab": {
          "base_uri": "https://localhost:8080/"
        },
        "id": "A0n2JDpFcXr_",
        "outputId": "40600436-f926-4cfd-e1f6-60a0c44c9c07"
      },
      "execution_count": 6,
      "outputs": [
        {
          "output_type": "stream",
          "name": "stdout",
          "text": [
            "column1    1\n",
            "column2    3\n",
            "column3    2\n",
            "dtype: int64\n"
          ]
        }
      ]
    },
    {
      "cell_type": "markdown",
      "source": [
        "# choose an imputer method and create an instance of the imputer"
      ],
      "metadata": {
        "id": "hGqFhezOc4Qf"
      }
    },
    {
      "cell_type": "code",
      "source": [
        "imputer = SimpleImputer(strategy='mean')"
      ],
      "metadata": {
        "id": "NOvhgmcTdBt_"
      },
      "execution_count": 11,
      "outputs": []
    },
    {
      "cell_type": "markdown",
      "source": [
        "# implement data imputation on numerical variables"
      ],
      "metadata": {
        "id": "fNbAUudtdwtR"
      }
    },
    {
      "cell_type": "code",
      "source": [
        "numerical_cols = df.select_dtypes(include=['float64','int64']).columns\n",
        "df[numerical_cols] = pd.DataFrame(imputer.fit_transform(df[numerical_cols]), columns=numerical_cols)"
      ],
      "metadata": {
        "id": "OF28WMLDd5eK"
      },
      "execution_count": 15,
      "outputs": []
    },
    {
      "cell_type": "markdown",
      "source": [
        "# print updated dataframe"
      ],
      "metadata": {
        "id": "eG8qb-0phmfP"
      }
    },
    {
      "cell_type": "code",
      "source": [
        "print(df)"
      ],
      "metadata": {
        "colab": {
          "base_uri": "https://localhost:8080/"
        },
        "id": "sDGpjckohr8s",
        "outputId": "94e92965-f9ab-4da8-ff8f-fdc7292d47b2"
      },
      "execution_count": 16,
      "outputs": [
        {
          "output_type": "stream",
          "name": "stdout",
          "text": [
            "   column1  column2    column3\n",
            "0     1.00      6.5   8.000000\n",
            "1     2.00      6.0   9.000000\n",
            "2     3.00      7.0   9.666667\n",
            "3     2.75      6.5   9.666667\n",
            "4     5.00      6.5  12.000000\n"
          ]
        }
      ]
    },
    {
      "cell_type": "markdown",
      "source": [
        "# insights gained\n",
        "I create a new DataFrame called 'df' with my own data\n",
        "checked for missing values\n",
        "impute the missing values\n",
        "and I have the updated dataframe after imputation"
      ],
      "metadata": {
        "id": "-6LwtgiFiAqv"
      }
    }
  ]
}